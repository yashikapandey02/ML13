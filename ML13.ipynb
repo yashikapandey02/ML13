{
 "cells": [
  {
   "cell_type": "code",
   "execution_count": null,
   "id": "2e87c140",
   "metadata": {},
   "outputs": [],
   "source": [
    "1. Provide an example of the concepts of Prior, Posterior, and Likelihood.\n",
    "\n",
    "Ans: Mathematically, Prior Probability can be defined as the Probability of event A occurring. P(A). We can calculate the \n",
    "    probability of getting afflicted with Covid-19 without any additional information would put us in a box and we would simply\n",
    "    have to calculate the probability using the entire population of the world.\n",
    "\n",
    "    Mathematically, it can be defined as the Probability of a point x such that it belongs to a certain class label. In above\n",
    "    example, with more information like the information regarding the country and state we wish to talk about for Covid-19 \n",
    "    infection, we will change or adjust our probability. In this case, probability calculated after getting more information is\n",
    "    posterior probability.\n",
    "\n",
    "    Mathematically, it can be defined as the Probability of event B (P(B)) given that event A has already occurred. Probability\n",
    "    of getting a heads in a toss will be prior probability. But, calculating the conditional probability of the coin giving\n",
    "    heads given that the coin was biased will be likelihood.\n",
    "\n"
   ]
  },
  {
   "cell_type": "code",
   "execution_count": null,
   "id": "27cec8cc",
   "metadata": {},
   "outputs": [],
   "source": [
    "2. What role does Bayes' theorem play in the concept learning principle?\n",
    "\n",
    "Ans:Bayes theorem helps us define probabilities of an event A occurring given that another event B has already occurred. Using \n",
    "    the calculation of the probabilities from independent variables, categorizing of target values can be done and the larger\n",
    "    goal of concept learning can be achieved.\n"
   ]
  },
  {
   "cell_type": "code",
   "execution_count": null,
   "id": "efa8938c",
   "metadata": {},
   "outputs": [],
   "source": [
    "3. Offer an example of how the Nave Bayes classifier is used in real life.\n",
    "\n",
    "Ans: Naive Bayes Classifier is used in sentiment analysis, for classifying a document as a positive or a negative comment. \n",
    "    After the Data Preprocessing steps and Data Transformation, Documents can be converted to document term matrix using a Bag \n",
    "    Of Words approach. Using this document term matrix, Naive Bayes Classifier is trained by calculating the probabilities of \n",
    "    documents while using labelled data.\n"
   ]
  },
  {
   "cell_type": "code",
   "execution_count": null,
   "id": "1ac357a8",
   "metadata": {},
   "outputs": [],
   "source": [
    "4. Can the Nave Bayes classifier be used on continuous numeric data? If so, how can you go about doing it?\n",
    "\n",
    "Ans: Yes, we can use the Naive Bayes classifier on continuous numeric data. Values in the target variable can be put into bins or \n",
    "class intervals so that classes can be created and the Naive Bayes classifier only needs to predict these classes while the \n",
    "continous numeric values would come from a very well defined class interval later predicted by the classifier.\n"
   ]
  },
  {
   "cell_type": "code",
   "execution_count": null,
   "id": "70ee46b2",
   "metadata": {},
   "outputs": [],
   "source": [
    "5. What are Bayesian Belief Networks, and how do they work? What are their applications? Are they capable of resolving a wide \n",
    "range of issues?\n",
    "\n",
    "Ans: For solving problem statements dealing with uncertainty, probabilistic graphical models can be built for capturing the joint \n",
    "probabilities for a set of independent variables. Such a graphical model is called a Bayesian Belief Network. It works by \n",
    "calculating the posterior probabilities of future events using the past data of a set of independent variables.\n",
    "\n",
    "Main applications of Bayesian Belief Networks is prediction, time series analysis and decision analytics. Yes. They are capable\n",
    "of resolving a wide range of issues that deal with uncertainty.\n"
   ]
  },
  {
   "cell_type": "code",
   "execution_count": null,
   "id": "7db839ca",
   "metadata": {},
   "outputs": [],
   "source": [
    "6. Passengers are checked in an airport screening system to see if there is an intruder. Let I be the random variable that\n",
    "indicates whether someone is an intruder I = 1) or not I = 0), and A be the variable that indicates alarm I = 0). If an intruder\n",
    "is detected with probability P(A = 1|I = 1) = 0.98 and a non-intruder is detected with probability P(A = 1|I = 0) = 0.001, an \n",
    "alarm will be triggered, implying the error factor. The likelihood of an intruder in the passenger population is P(I = 1)\n",
    "= 0.00001. What are the chances that an alarm would be triggered when an individual is actually an intruder?\n",
    "\n",
    "Ans:\n",
    "    Given,\n",
    "\n",
    "    P(A = 1|I = 1) = 0.98\n",
    "\n",
    "    P(A = 1|I = 0) = 0.001\n",
    "\n",
    "    P(I = 1) = 0.00001\n",
    "\n",
    "For P(I=1|A=1),\n",
    "\n",
    "P(A=1|I= 1)P(I=1)/(P(A=1|I=1)P(I=1)+P(A=1|I=0)P(T=0))\n",
    "\n",
    "Or,\n",
    "\n",
    "0.980.00001/(0.980.00001+0.001*(1−0.00001))\n",
    "\n",
    "which comes out as 0.0097.\n"
   ]
  },
  {
   "cell_type": "code",
   "execution_count": null,
   "id": "2f342b61",
   "metadata": {},
   "outputs": [],
   "source": [
    "7. An antibiotic resistance test (random variable T) has 1% false positives (i.e., 1% of those who are not immune to an\n",
    "antibiotic display a positive result in the test) and 5% false negatives (i.e., 1% of those who are not resistant to an \n",
    "antibiotic show a positive result in the test) (i.e. 5 percent of those actually resistant to an antibiotic test negative).\n",
    "Assume that 2% of those who were screened were antibiotic-resistant. Calculate the likelihood that a person who tests positive \n",
    "is actually immune (random variable D).\n",
    "\n",
    "Ans:\n",
    "    Given,\n",
    "\n",
    "    P(Antibiotic resistant) = 0.02\n",
    "\n",
    "    P(Not antibiotic resistant) = 0.98\n",
    "\n",
    "    P(Test resulted positive| Not Antibiotic resistant) = 0.01\n",
    "\n",
    "    P(Test resulted negative| Antibiotic resistant) = 0.05\n",
    "\n",
    "For P(Antibiotic resistant| Test resulted positive)\n",
    "\n",
    "P(Test resulted positive| Antibiotic resistant)P(Antibiotic resistant)/(P(Test resulted positive| Antibiotic resistant)P(Antibiotic resistant)+P(Test resulted positive| Not Antibiotic resistant)P(Not antibiotic resistant))\n",
    "\n",
    "(1-0.05)0.02/((1-0.05)0.02 + 0.01*0.98)\n",
    "\n",
    "which comes out to be 0.6597\n"
   ]
  },
  {
   "cell_type": "code",
   "execution_count": null,
   "id": "bc11fa1c",
   "metadata": {},
   "outputs": [],
   "source": [
    "8. In order to prepare for the test, a student knows that there will be one question in the exam that is either form A, B, or C.\n",
    "The chances of getting an A, B, or C on the exam are 30 percent, 20%, and 50 percent, respectively. During the planning, the \n",
    "student solved 9 of 10 type A problems, 2 of 10 type B problems, and 6 of 10 type C problems.\n",
    "\n"
   ]
  },
  {
   "cell_type": "code",
   "execution_count": null,
   "id": "ec8acbc2",
   "metadata": {},
   "outputs": [],
   "source": [
    "1. What is the likelihood that the student can solve the exam problem?\n",
    "\n",
    "Ans:\n",
    "    Given,\n",
    "\n",
    "    P(A) = 0.3\n",
    "\n",
    "    P(B) = 0.2\n",
    "\n",
    "    P(C) = 0.5\n",
    "\n",
    "    P(Student solved| problem A) = 0.9\n",
    "\n",
    "    P(Student solved| problem B) = 0.2\n",
    "\n",
    "    P(Student solved| problem C) = 0.6\n",
    "\n",
    "For P(Student solved problem),\n",
    "\n",
    "P(Student solved| problem A)P(A)+P(Student solved| problem B)P(B)+P(Student solved| problem C)P(C)\n",
    "\n",
    "0.90.3+0.20.2+0.6*0.5\n",
    "\n",
    "which comes out as 0.61"
   ]
  },
  {
   "cell_type": "code",
   "execution_count": null,
   "id": "2f9b3749",
   "metadata": {},
   "outputs": [],
   "source": []
  },
  {
   "cell_type": "code",
   "execution_count": null,
   "id": "779f5808",
   "metadata": {},
   "outputs": [],
   "source": [
    "2. Given the student's solution, what is the likelihood that the problem was of form A?\n",
    "\n",
    "Ans:\n",
    "    For, P(Problem was A| given it was solved)\n",
    "\n",
    "P(Student solved| problem A)P(A)/(P(Student solved problem))\n",
    "\n",
    "0.9*0.3/(0.61)\n",
    "\n",
    "which is 0.427"
   ]
  },
  {
   "cell_type": "code",
   "execution_count": null,
   "id": "68c7d901",
   "metadata": {},
   "outputs": [],
   "source": [
    "9. A bank installs a CCTV system to track and photograph incoming customers. Despite the constant influx of customers, we divide\n",
    "the timeline into 5 minute bins. There may be a customer coming into the bank with a 5% chance in each 5-minute time period, or \n",
    "there may be no customer (again, for simplicity, we assume that either there is 1 customer or none, not the case of multi\n",
    "customers). If there is a client, the CCTV will detect them with a 99 percent probability. If there is no customer, the camera\n",
    "can take a false photograph with a 10% chance of detecting movement from other objects."
   ]
  },
  {
   "cell_type": "code",
   "execution_count": null,
   "id": "7e4aeef8",
   "metadata": {},
   "outputs": [],
   "source": [
    "1. How many customers come into the bank on a daily basis (10 hours)?\n",
    "\n",
    "Ans:\n",
    "    Given,\n",
    "\n",
    "    P(Customer coming into the bank in each 5-minute time period) = 0.05\n",
    "\n",
    "Since each hour has 12 5-minute time period, then there will be a total of 10*12 = 120 5-min time periods per day.\n",
    "\n",
    "Therefore, 120*0.05 = 6 customers can come into the bank on a daily basis."
   ]
  },
  {
   "cell_type": "code",
   "execution_count": null,
   "id": "095e012b",
   "metadata": {},
   "outputs": [],
   "source": [
    "2. On a daily basis, how many fake photographs (photographs taken when there is no customer) and how many missed photographs\n",
    "(photographs taken when there is a customer) are there?\n",
    "\n",
    "Ans:\n",
    "    Given,\n",
    "\n",
    "    P(If there is no customer, the camera takes a false photograph) = 0.1\n",
    "\n",
    "    P(If there is a client, the CCTV will detect them) = 0.99\n",
    "\n",
    "For fake photographs,\n",
    "\n",
    "(120 - 6)*0.1 = 11.4 or 11 fake photographs.\n",
    "\n",
    "For missed photographs,\n",
    "\n",
    "6*0.1 = 0.6 or 60% of the times."
   ]
  },
  {
   "cell_type": "code",
   "execution_count": null,
   "id": "8f2718ef",
   "metadata": {},
   "outputs": [],
   "source": [
    "3. Explain likelihood that there is a customer if there is a photograph?\n",
    "\n",
    "Ans:\n",
    "    Given,\n",
    "\n",
    "    P(If there is a client, the CCTV will detect them) = 0.99\n",
    "\n",
    "    P(Customer) = 0.05\n",
    "\n",
    "For, P(Customer is there| Photo is taken)\n",
    "\n",
    "0.990.05/((0.990.5)+0.1(1-0.05))\n",
    "\n",
    "which is 0.34"
   ]
  },
  {
   "cell_type": "code",
   "execution_count": null,
   "id": "34f50978",
   "metadata": {},
   "outputs": [],
   "source": [
    "8. In order to prepare for the test, a student knows that there will be one question in the exam that is either form A, B, or C.\n",
    "The chances of getting an A, B, or C on the exam are 30 percent, 20%, and 50 percent, respectively. During the planning, the\n",
    "student solved 9 of 10 type A problems, 2 of 10 type B problems, and 6 of 10 type C problems."
   ]
  },
  {
   "cell_type": "code",
   "execution_count": null,
   "id": "8334c7d3",
   "metadata": {},
   "outputs": [],
   "source": [
    "1. What is the likelihood that the student can solve the exam problem?\n",
    "\n",
    "Ans:\n",
    "    Given,\n",
    "\n",
    "    P(A) = 0.3\n",
    "\n",
    "    P(B) = 0.2\n",
    "\n",
    "    P(C) = 0.5\n",
    "\n",
    "    P(Student solved| problem A) = 0.9\n",
    "\n",
    "    P(Student solved| problem B) = 0.2\n",
    "\n",
    "    P(Student solved| problem C) = 0.6\n",
    "\n",
    "For P(Student solved problem),\n",
    "\n",
    "P(Student solved| problem A)P(A)+P(Student solved| problem B)P(B)+P(Student solved| problem C)P(C)\n",
    "\n",
    "0.90.3+0.20.2+0.6*0.5\n",
    "\n",
    "which comes out as 0.61"
   ]
  },
  {
   "cell_type": "code",
   "execution_count": null,
   "id": "60e72565",
   "metadata": {},
   "outputs": [],
   "source": [
    "2. Given the student's solution, what is the likelihood that the problem was of form A?\n",
    "\n",
    "Ans:\n",
    "    For, P(Problem was A| given it was solved)\n",
    "\n",
    "P(Student solved| problem A)P(A)/(P(Student solved problem))\n",
    "\n",
    "0.9*0.3/(0.61)\n",
    "\n",
    "which is 0.427"
   ]
  },
  {
   "cell_type": "code",
   "execution_count": null,
   "id": "daa86925",
   "metadata": {},
   "outputs": [],
   "source": [
    "9. A bank installs a CCTV system to track and photograph incoming customers. Despite the constant influx of customers, we divide\n",
    "the timeline into 5 minute bins. There may be a customer coming into the bank with a 5% chance in each 5-minute time period, or\n",
    "there may be no customer (again, for simplicity, we assume that either there is 1 customer or none, not the case of multiple \n",
    "customers). If there is a client, the CCTV will detect them with a 99 percent probability. If there is no customer, the camera\n",
    "can take a false photograph with a 10% chance of detecting movement from other objects."
   ]
  },
  {
   "cell_type": "code",
   "execution_count": null,
   "id": "43254d95",
   "metadata": {},
   "outputs": [],
   "source": [
    "1. How many customers come into the bank on a daily basis (10 hours)?\n",
    "\n",
    "Ans:\n",
    "    Given,\n",
    "\n",
    "    P(Customer coming into the bank in each 5-minute time period) = 0.05\n",
    "\n",
    "Since each hour has 12 5-minute time period, then there will be a total of 10*12 = 120 5-min time periods per day.\n",
    "\n",
    "Therefore, 120*0.05 = 6 customers can come into the bank on a daily basis."
   ]
  },
  {
   "cell_type": "code",
   "execution_count": null,
   "id": "4a8e39a7",
   "metadata": {},
   "outputs": [],
   "source": [
    "2. On a daily basis, how many fake photographs (photographs taken when there is no customer) and how many missed photographs\n",
    "(photographs taken when there is a customer) are there?\n",
    "\n",
    "Ans:\n",
    "    Given,\n",
    "\n",
    "    P(If there is no customer, the camera takes a false photograph) = 0.1\n",
    "\n",
    "    P(If there is a client, the CCTV will detect them) = 0.99\n",
    "\n",
    "For fake photographs,\n",
    "\n",
    "(120 - 6)*0.1 = 11.4 or 11 fake photographs.\n",
    "\n",
    "For missed photographs,\n",
    "\n",
    "6*0.1 = 0.6 or 60% of the times."
   ]
  },
  {
   "cell_type": "code",
   "execution_count": null,
   "id": "30bcdfca",
   "metadata": {},
   "outputs": [],
   "source": [
    "3. Explain likelihood that there is a customer if there is a photograph?\n",
    "\n",
    "Ans:\n",
    "    Given,\n",
    "\n",
    "    P(If there is a client, the CCTV will detect them) = 0.99\n",
    "\n",
    "    P(Customer) = 0.05\n",
    "\n",
    "For, P(Customer is there| Photo is taken)\n",
    "\n",
    "0.990.05/((0.990.5)+0.1(1-0.05))\n",
    "\n",
    "which is 0.34"
   ]
  }
 ],
 "metadata": {
  "kernelspec": {
   "display_name": "Python 3 (ipykernel)",
   "language": "python",
   "name": "python3"
  },
  "language_info": {
   "codemirror_mode": {
    "name": "ipython",
    "version": 3
   },
   "file_extension": ".py",
   "mimetype": "text/x-python",
   "name": "python",
   "nbconvert_exporter": "python",
   "pygments_lexer": "ipython3",
   "version": "3.9.7"
  }
 },
 "nbformat": 4,
 "nbformat_minor": 5
}
